{
 "cells": [
  {
   "cell_type": "markdown",
   "id": "9e2660bb-d760-40d4-8e79-876881a5e3d8",
   "metadata": {
    "tags": []
   },
   "source": [
    "# Data Science Tools and Ecosystem "
   ]
  },
  {
   "cell_type": "markdown",
   "id": "59ac9286-ae45-44d0-a2a1-844c3c430ab1",
   "metadata": {},
   "source": [
    "In this notebook, Data Science Tools and Ecosystem are summarized."
   ]
  },
  {
   "cell_type": "markdown",
   "id": "e96ae4fa-5232-42cf-84a2-e85c3790e2b3",
   "metadata": {},
   "source": [
    "**Objectives:**\n",
    "- Popular languages for Data Science\n",
    "- Commonly used libraries in Data Science \n",
    "- Examples of Data Science Tools uses\n",
    "- Examples of evaluating arithmetic expressions in Python"
   ]
  },
  {
   "cell_type": "markdown",
   "id": "e80a30d0-20bb-47ef-9403-7ac3ee4e9f56",
   "metadata": {
    "tags": []
   },
   "source": [
    "# Some of the popular languages that Data Scientists use are:\n",
    "    1. Python\n",
    "    2. SQL\n",
    "    3. R\n",
    "    4. Julia\n",
    "    5. Scala"
   ]
  },
  {
   "cell_type": "markdown",
   "id": "655afce3-2f33-46da-a216-23565a5d008b",
   "metadata": {
    "tags": []
   },
   "source": [
    "# Some of the commonly used libraries used by Data Scientists include:\n",
    "## Scientific Libaries\n",
    "    1. Pandas\n",
    "    2. Numpy\n",
    "## Visualization Libraries\n",
    "    1. Matplotlib\n",
    "    2. Seaborn\n",
    "## Machine Learning Libraries\n",
    "    1. Scikit learn\n",
    "    2. Keras (Deep Learning)\n",
    "    3. Tensorflow\n",
    "    4. PyTorch\n",
    "## Libraries in other languages\n",
    "    1. Apache Spark\n",
    "    2. Vegas\n",
    "    3. BigDL"
   ]
  },
  {
   "cell_type": "markdown",
   "id": "3ebd0154-d297-44f7-9edc-989d1050923e",
   "metadata": {
    "tags": []
   },
   "source": [
    "|Data Science Tools|\n",
    "|------------------|\n",
    "|MySQL|\n",
    "|PowerBI|\n",
    "|Git|"
   ]
  },
  {
   "cell_type": "markdown",
   "id": "c4d1497d-e681-4993-8307-854b356f5036",
   "metadata": {
    "tags": []
   },
   "source": [
    "### Below are a few examples of evaluating arithmetic expressions in Python"
   ]
  },
  {
   "cell_type": "code",
   "execution_count": 9,
   "id": "1ba2f681-7131-4e4f-9669-dbdc5fdfd3fb",
   "metadata": {
    "tags": []
   },
   "outputs": [
    {
     "data": {
      "text/plain": [
       "17"
      ]
     },
     "execution_count": 9,
     "metadata": {},
     "output_type": "execute_result"
    }
   ],
   "source": [
    "# This a simple arithmetic expression to mutiply then add integers\n",
    "(3*4)+5"
   ]
  },
  {
   "cell_type": "code",
   "execution_count": 10,
   "id": "3f4d4e10-57c1-4622-a1cc-112767ab9ed1",
   "metadata": {
    "tags": []
   },
   "outputs": [
    {
     "name": "stdout",
     "output_type": "stream",
     "text": [
      "3.3333333333333335 hours\n"
     ]
    }
   ],
   "source": [
    "# This will convert 200 minutes to hours by diving by 60\n",
    "print(200/60,\"hours\")"
   ]
  },
  {
   "cell_type": "markdown",
   "id": "c4df11c1-26fb-4381-b28e-a3eb925b01ca",
   "metadata": {},
   "source": [
    "## Author:\n",
    "Kellimar J"
   ]
  }
 ],
 "metadata": {
  "kernelspec": {
   "display_name": "Python 3 (ipykernel)",
   "language": "python",
   "name": "python3"
  },
  "language_info": {
   "codemirror_mode": {
    "name": "ipython",
    "version": 3
   },
   "file_extension": ".py",
   "mimetype": "text/x-python",
   "name": "python",
   "nbconvert_exporter": "python",
   "pygments_lexer": "ipython3",
   "version": "3.10.13"
  }
 },
 "nbformat": 4,
 "nbformat_minor": 5
}
